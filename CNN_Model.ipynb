{
 "cells": [
  {
   "cell_type": "code",
   "execution_count": 1,
   "metadata": {},
   "outputs": [],
   "source": [
    "import os\n",
    "import numpy as np\n",
    "from matplotlib import pyplot as plt"
   ]
  },
  {
   "cell_type": "code",
   "execution_count": 2,
   "metadata": {},
   "outputs": [],
   "source": [
    "#load_datasets\n",
    "path = str(os.getcwd()) + \"\\\\\" + \"Datasets\"\n",
    "Trees = np.load(os.path.join(path ,\"Minecraft_Trees.npy\"))\n",
    "# Test_Trees = np.load(os.path.join(path ,\"Unseen_Trees.npy\"))"
   ]
  },
  {
   "cell_type": "code",
   "execution_count": 3,
   "metadata": {},
   "outputs": [
    {
     "data": {
      "image/png": "[encoded data removed]",
      "text/plain": [
       "<Figure size 432x288 with 2 Axes>"
      ]
     },
     "metadata": {
      "needs_background": "light"
     },
     "output_type": "display_data"
    }
   ],
   "source": [
    "#img_plot\n",
    "fig, ax = plt.subplots(1,2)\n",
    "\n",
    "ax[0].set_title(\"Oak\")\n",
    "ax[0].imshow(Trees[4], cmap = \"gray\", interpolation = \"nearest\")\n",
    "ax[1].set_title(\"Spruce\")\n",
    "ax[1].imshow(Trees[104], cmap = \"gray\", interpolation = \"nearest\")\n",
    "\n",
    "plt.show()"
   ]
  },
  {
   "cell_type": "code",
   "execution_count": 4,
   "metadata": {},
   "outputs": [],
   "source": [
    "#set_label\n",
    "label = []\n",
    "\n",
    "for index, data in enumerate(Trees):\n",
    "    if (index <= 100):\n",
    "        label.append([1, 0])\n",
    "    else:\n",
    "        label.append([0, 1])\n",
    "        \n",
    "label = np.array(label)"
   ]
  },
  {
   "cell_type": "code",
   "execution_count": 5,
   "metadata": {},
   "outputs": [],
   "source": [
    "from sklearn.model_selection import train_test_split"
   ]
  },
  {
   "cell_type": "code",
   "execution_count": 6,
   "metadata": {},
   "outputs": [],
   "source": [
    "#define_features & targets\n",
    "X = Trees.copy().reshape(200,16,16,1)\n",
    "y = label.copy()"
   ]
  },
  {
   "cell_type": "code",
   "execution_count": 7,
   "metadata": {},
   "outputs": [],
   "source": [
    "#split_data\n",
    "X_train, X_test, y_train, y_test = train_test_split(X, y, test_size=0.1, random_state=1)"
   ]
  },
  {
   "cell_type": "code",
   "execution_count": 8,
   "metadata": {},
   "outputs": [],
   "source": [
    "from keras.models import Sequential\n",
    "from keras.layers import Dense, Activation, Flatten, Conv2D, MaxPooling2D\n",
    "from keras.utils import to_categorical\n",
    "from keras.losses import categorical_crossentropy\n",
    "from keras.optimizers import Adam"
   ]
  },
  {
   "cell_type": "code",
   "execution_count": 9,
   "metadata": {},
   "outputs": [],
   "source": [
    "class MyModel:\n",
    "    \n",
    "    def __init__(self, X_train, X_test, y_train, y_test):\n",
    "        \n",
    "        self.X_train = X_train\n",
    "        self.X_test = X_test \n",
    "        self.y_train = y_train\n",
    "        self.y_test = y_test\n",
    "        \n",
    "        self.CNN_model = Sequential()\n",
    "        \n",
    "        self.CNN_model.add(Conv2D(64, (3,3), input_shape=(16,16,1)))\n",
    "        self.CNN_model.add(Activation(\"relu\"))\n",
    "        self.CNN_model.add(MaxPooling2D(pool_size=(2,2)))\n",
    "        \n",
    "        self.CNN_model.add(Conv2D(64, (3,3)))\n",
    "        self.CNN_model.add(Activation(\"relu\"))\n",
    "        self.CNN_model.add(MaxPooling2D(pool_size=(2,2)))\n",
    "        \n",
    "        self.CNN_model.add(Flatten())\n",
    "        self.CNN_model.add(Dense(64))\n",
    "        \n",
    "        self.CNN_model.add(Dense(2))\n",
    "        self.CNN_model.add(Activation(\"softmax\"))\n",
    "        \n",
    "        self.CNN_model.compile(loss=categorical_crossentropy, optimizer=Adam(),\n",
    "        metrics=[\"accuracy\"])\n",
    "        \n",
    "    def getFit(self):\n",
    "        return self.CNN_model.fit(X_train, y_train, batch_size=20, epochs=5)\n",
    "    \n",
    "    def getEvaluate(self):\n",
    "        return self.CNN_model.evaluate(self.X_test, self.y_test)"
   ]
  },
  {
   "cell_type": "code",
   "execution_count": 10,
   "metadata": {},
   "outputs": [],
   "source": [
    "CNN_model = MyModel(X_train, X_test, y_train, y_test)"
   ]
  },
  {
   "cell_type": "code",
   "execution_count": 11,
   "metadata": {},
   "outputs": [
    {
     "name": "stdout",
     "output_type": "stream",
     "text": [
      "Epoch 1/5\n",
      "9/9 [==============================] - 0s 5ms/step - loss: 24.5124 - accuracy: 0.5215\n",
      "Epoch 2/5\n",
      "9/9 [==============================] - 0s 5ms/step - loss: 0.4683 - accuracy: 0.9897\n",
      "Epoch 3/5\n",
      "9/9 [==============================] - 0s 5ms/step - loss: 0.8822 - accuracy: 0.9860\n",
      "Epoch 4/5\n",
      "9/9 [==============================] - 0s 6ms/step - loss: 0.5290 - accuracy: 0.9917\n",
      "Epoch 5/5\n",
      "9/9 [==============================] - 0s 5ms/step - loss: 0.1464 - accuracy: 0.9967\n"
     ]
    },
    {
     "data": {
      "text/plain": [
       "<tensorflow.python.keras.callbacks.History at 0x233e755e4c8>"
      ]
     },
     "execution_count": 11,
     "metadata": {},
     "output_type": "execute_result"
    }
   ],
   "source": [
    "CNN_model.getFit()"
   ]
  },
  {
   "cell_type": "code",
   "execution_count": 12,
   "metadata": {},
   "outputs": [
    {
     "name": "stdout",
     "output_type": "stream",
     "text": [
      "1/1 [==============================] - 0s 152ms/step - loss: 0.0000e+00 - accuracy: 1.0000\n"
     ]
    },
    {
     "data": {
      "text/plain": [
       "[0.0, 1.0]"
      ]
     },
     "execution_count": 12,
     "metadata": {},
     "output_type": "execute_result"
    }
   ],
   "source": [
    "CNN_model.getEvaluate()"
   ]
  }
 ],
 "metadata": {
  "kernelspec": {
   "display_name": "Python 3",
   "language": "python",
   "name": "python3"
  },
  "language_info": {
   "codemirror_mode": {
    "name": "ipython",
    "version": 3
   },
   "file_extension": ".py",
   "mimetype": "text/x-python",
   "name": "python",
   "nbconvert_exporter": "python",
   "pygments_lexer": "ipython3",
   "version": "3.7.6"
  }
 },
 "nbformat": 4,
 "nbformat_minor": 4
}
