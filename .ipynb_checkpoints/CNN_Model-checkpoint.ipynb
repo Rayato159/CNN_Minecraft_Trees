{
 "cells": [
  {
   "cell_type": "code",
   "execution_count": 1,
   "metadata": {},
   "outputs": [],
   "source": [
    "import os\n",
    "import numpy as np\n",
    "from matplotlib import pyplot as plt"
   ]
  },
  {
   "cell_type": "code",
   "execution_count": 2,
   "metadata": {},
   "outputs": [],
   "source": [
    "#load_datasets\n",
    "path = str(os.getcwd()) + \"\\\\\" + \"Datasets\"\n",
    "Trees = np.load(os.path.join(path ,\"Minecraft_Trees.npy\"))"
   ]
  },
  {
   "cell_type": "code",
   "execution_count": 3,
   "metadata": {},
   "outputs": [
    {
     "data": {
      "image/png": "[encoded data removed]",
      "text/plain": [
       "<Figure size 432x288 with 2 Axes>"
      ]
     },
     "metadata": {
      "needs_background": "light"
     },
     "output_type": "display_data"
    }
   ],
   "source": [
    "#img_plot\n",
    "fig, ax = plt.subplots(1,2)\n",
    "\n",
    "ax[0].set_title(\"Oak\")\n",
    "ax[0].imshow(Trees[4], cmap = \"gray\", interpolation = \"nearest\")\n",
    "ax[1].set_title(\"Spruce\")\n",
    "ax[1].imshow(Trees[104], cmap = \"gray\", interpolation = \"nearest\")\n",
    "\n",
    "plt.show()"
   ]
  },
  {
   "cell_type": "code",
   "execution_count": 4,
   "metadata": {},
   "outputs": [],
   "source": [
    "#set_label\n",
    "label = []\n",
    "\n",
    "for index, data in enumerate(Trees):\n",
    "    if (index <= 100):\n",
    "        label.append([1, 0])\n",
    "    else:\n",
    "        label.append([0, 1])\n",
    "        \n",
    "label = np.array(label)"
   ]
  },
  {
   "cell_type": "code",
   "execution_count": 5,
   "metadata": {},
   "outputs": [],
   "source": [
    "from sklearn.model_selection import train_test_split"
   ]
  },
  {
   "cell_type": "code",
   "execution_count": 6,
   "metadata": {},
   "outputs": [],
   "source": [
    "#define_features & targets\n",
    "X = Trees.copy().reshape(200,16,16,1)\n",
    "y = label.copy()"
   ]
  },
  {
   "cell_type": "code",
   "execution_count": 7,
   "metadata": {},
   "outputs": [],
   "source": [
    "#split_data\n",
    "X_train, X_test, y_train, y_test = train_test_split(X, y, test_size=0.2, random_state=1)"
   ]
  },
  {
   "cell_type": "code",
   "execution_count": 8,
   "metadata": {},
   "outputs": [],
   "source": [
    "from keras.models import Sequential\n",
    "from keras.layers import Dense, Activation, Flatten, Conv2D, MaxPooling2D\n",
    "from keras.utils import to_categorical\n",
    "from keras.losses import categorical_crossentropy\n",
    "from keras.optimizers import Adam"
   ]
  },
  {
   "cell_type": "code",
   "execution_count": 9,
   "metadata": {},
   "outputs": [],
   "source": [
    "class MyModel:\n",
    "    \n",
    "    def __init__(self, X_train, X_test, y_train, y_test):\n",
    "        \n",
    "        self.X_train = X_train\n",
    "        self.X_test = X_test \n",
    "        self.y_train = y_train\n",
    "        self.y_test = y_test\n",
    "        \n",
    "        self.CNN_model = Sequential()\n",
    "        \n",
    "        #Layer_1\n",
    "        self.CNN_model.add(Conv2D(32, (3,3), input_shape=(16,16,1)))\n",
    "        self.CNN_model.add(Activation(\"relu\"))\n",
    "        self.CNN_model.add(MaxPooling2D(pool_size=(2,2)))\n",
    "        \n",
    "        #Layer_2\n",
    "        self.CNN_model.add(Conv2D(32, (3,3)))\n",
    "        self.CNN_model.add(Activation(\"relu\"))\n",
    "        self.CNN_model.add(MaxPooling2D(pool_size=(2,2)))\n",
    "        \n",
    "        #Layer_3\n",
    "        self.CNN_model.add(Flatten())\n",
    "        self.CNN_model.add(Dense(32))\n",
    "        \n",
    "        #Layer_4_output\n",
    "        self.CNN_model.add(Dense(2))\n",
    "        self.CNN_model.add(Activation(\"softmax\"))\n",
    "        \n",
    "        self.CNN_model.compile(loss=categorical_crossentropy, optimizer=Adam(),\n",
    "        metrics=[\"accuracy\"])\n",
    "        \n",
    "    def getFit(self):\n",
    "        self.CNN_model.fit(X_train, y_train, batch_size=20, epochs=5)\n",
    "        return self.CNN_model.summary()\n",
    "    \n",
    "    def getEvaluate(self):\n",
    "        return self.CNN_model.evaluate(self.X_test, self.y_test)\n",
    "    \n",
    "    def getPredict(self, X_test):\n",
    "        return self.CNN_model.predict(X_test)"
   ]
  },
  {
   "cell_type": "code",
   "execution_count": 10,
   "metadata": {},
   "outputs": [],
   "source": [
    "CNN_model = MyModel(X_train, X_test, y_train, y_test)"
   ]
  },
  {
   "cell_type": "code",
   "execution_count": 11,
   "metadata": {},
   "outputs": [
    {
     "name": "stdout",
     "output_type": "stream",
     "text": [
      "Epoch 1/5\n",
      "8/8 [==============================] - 0s 3ms/step - loss: 12.2740 - accuracy: 0.6247\n",
      "Epoch 2/5\n",
      "8/8 [==============================] - 0s 3ms/step - loss: 1.6975 - accuracy: 0.8979\n",
      "Epoch 3/5\n",
      "8/8 [==============================] - 0s 4ms/step - loss: 0.5933 - accuracy: 0.9958\n",
      "Epoch 4/5\n",
      "8/8 [==============================] - 0s 3ms/step - loss: 0.6698 - accuracy: 0.9958\n",
      "Epoch 5/5\n",
      "8/8 [==============================] - 0s 2ms/step - loss: 0.8154 - accuracy: 0.9944\n"
     ]
    },
    {
     "data": {
      "text/plain": [
       "<tensorflow.python.keras.callbacks.History at 0x232de2235c8>"
      ]
     },
     "execution_count": 11,
     "metadata": {},
     "output_type": "execute_result"
    }
   ],
   "source": [
    "CNN_model.getFit()"
   ]
  },
  {
   "cell_type": "code",
   "execution_count": 12,
   "metadata": {},
   "outputs": [
    {
     "name": "stdout",
     "output_type": "stream",
     "text": [
      "2/2 [==============================] - 0s 2ms/step - loss: 0.0000e+00 - accuracy: 1.0000\n",
      "Model: \"sequential\"\n",
      "_________________________________________________________________\n",
      "Layer (type)                 Output Shape              Param #   \n",
      "=================================================================\n",
      "conv2d (Conv2D)              (None, 14, 14, 32)        320       \n",
      "_________________________________________________________________\n",
      "activation (Activation)      (None, 14, 14, 32)        0         \n",
      "_________________________________________________________________\n",
      "max_pooling2d (MaxPooling2D) (None, 7, 7, 32)          0         \n",
      "_________________________________________________________________\n",
      "conv2d_1 (Conv2D)            (None, 5, 5, 32)          9248      \n",
      "_________________________________________________________________\n",
      "activation_1 (Activation)    (None, 5, 5, 32)          0         \n",
      "_________________________________________________________________\n",
      "max_pooling2d_1 (MaxPooling2 (None, 2, 2, 32)          0         \n",
      "_________________________________________________________________\n",
      "flatten (Flatten)            (None, 128)               0         \n",
      "_________________________________________________________________\n",
      "dense (Dense)                (None, 32)                4128      \n",
      "_________________________________________________________________\n",
      "dense_1 (Dense)              (None, 2)                 66        \n",
      "_________________________________________________________________\n",
      "activation_2 (Activation)    (None, 2)                 0         \n",
      "=================================================================\n",
      "Total params: 13,762\n",
      "Trainable params: 13,762\n",
      "Non-trainable params: 0\n",
      "_________________________________________________________________\n"
     ]
    }
   ],
   "source": [
    "CNN_model.getEvaluate()"
   ]
  },
  {
   "cell_type": "code",
   "execution_count": 13,
   "metadata": {},
   "outputs": [],
   "source": [
    "X_unseen = np.load(os.path.join(path ,\"Unseen_Trees.npy\"))\n",
    "X_unseen_input = np.load(os.path.join(path ,\"Unseen_Trees.npy\")).reshape(10,16,16,1)"
   ]
  },
  {
   "cell_type": "code",
   "execution_count": 14,
   "metadata": {},
   "outputs": [],
   "source": [
    "predict = CNN_model.getPredict(X_unseen_input)"
   ]
  },
  {
   "cell_type": "code",
   "execution_count": 15,
   "metadata": {},
   "outputs": [],
   "source": [
    "label_name = []\n",
    "for data in predict:\n",
    "    if data[0] == 1 and data[1] == 0:\n",
    "        label_name.append(\"Oak\")\n",
    "    else:\n",
    "        label_name.append(\"Spruce\")"
   ]
  },
  {
   "cell_type": "code",
   "execution_count": 16,
   "metadata": {},
   "outputs": [
    {
     "data": {
      "image/png": "[encoded data removed]",
      "text/plain": [
       "<Figure size 432x288 with 10 Axes>"
      ]
     },
     "metadata": {
      "needs_background": "light"
     },
     "output_type": "display_data"
    }
   ],
   "source": [
    "fig, ax = plt.subplots(2,5)\n",
    "\n",
    "k = 0\n",
    "for i in range(2):\n",
    "    for j in range(5):\n",
    "        ax[i][j].set_title(f\"{label_name[k]}\")\n",
    "        ax[i][j].imshow(X_unseen[k], cmap = \"gray\", interpolation = \"nearest\")\n",
    "        k += 1\n",
    "    \n",
    "plt.show()"
   ]
  }
 ],
 "metadata": {
  "kernelspec": {
   "display_name": "Python 3",
   "language": "python",
   "name": "python3"
  },
  "language_info": {
   "codemirror_mode": {
    "name": "ipython",
    "version": 3
   },
   "file_extension": ".py",
   "mimetype": "text/x-python",
   "name": "python",
   "nbconvert_exporter": "python",
   "pygments_lexer": "ipython3",
   "version": "3.7.6"
  }
 },
 "nbformat": 4,
 "nbformat_minor": 4
}
